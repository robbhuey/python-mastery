{
 "cells": [
  {
   "cell_type": "markdown",
   "id": "3eb76776-61fc-4589-8098-ca3bf5214d3a",
   "metadata": {},
   "source": [
    "## Practice problems"
   ]
  },
  {
   "cell_type": "markdown",
   "id": "5f9460d5-6b7e-4e72-9426-c3240249f36f",
   "metadata": {},
   "source": [
    "+ Starting with questions found on codewars."
   ]
  },
  {
   "cell_type": "markdown",
   "id": "7bf72443-e19b-40be-bd49-2cbc5fb82638",
   "metadata": {},
   "source": [
    "1.) Create a function that takes an integer as an argument and returns \"Even\" for even numbers or \"Odd\" for odd numbers."
   ]
  },
  {
   "cell_type": "code",
   "execution_count": 4,
   "id": "6e4d1f55-d6f7-4edd-adfd-da6703baa360",
   "metadata": {
    "tags": []
   },
   "outputs": [],
   "source": [
    "def even_or_odd(number):\n",
    "    if number % 2 == 0:\n",
    "        return \"Even\"\n",
    "    else:\n",
    "        return \"Odd\""
   ]
  },
  {
   "cell_type": "code",
   "execution_count": 6,
   "id": "41a36b03-f269-43ad-a2f6-7c17c5c42868",
   "metadata": {
    "tags": []
   },
   "outputs": [
    {
     "name": "stdout",
     "output_type": "stream",
     "text": [
      "Odd\n"
     ]
    }
   ],
   "source": [
    "result = even_or_odd(5)\n",
    "print(result)"
   ]
  },
  {
   "cell_type": "code",
   "execution_count": 7,
   "id": "3bd4be94-ecfa-45ab-8e7f-0f1f9deef74c",
   "metadata": {
    "tags": []
   },
   "outputs": [
    {
     "name": "stdout",
     "output_type": "stream",
     "text": [
      "Even\n"
     ]
    }
   ],
   "source": [
    "result = even_or_odd(8)\n",
    "print(result)"
   ]
  },
  {
   "cell_type": "markdown",
   "id": "4e451804-dc68-4e86-89ed-b075e2397f17",
   "metadata": {},
   "source": [
    "2.) Usually when you buy something, you're asked whether your credit card number, phone number or answer to your most secret question is still correct. However, since someone could look over your shoulder, you don't want that shown on your screen. Instead, we mask it.\n",
    "\n",
    "Your task is to write a function maskify, which changes all but the last four characters into '#'."
   ]
  },
  {
   "cell_type": "code",
   "execution_count": 8,
   "id": "1a7ade42-384c-45f6-a59a-59bbd9a2afcb",
   "metadata": {
    "tags": []
   },
   "outputs": [],
   "source": [
    "def maskify(cc):\n",
    "    if len(cc) <= 4:\n",
    "        return cc\n",
    "    else:\n",
    "        masked = '#' * (len(cc) - 4)\n",
    "        last_four_chars = cc[-4:]\n",
    "        masked_string = masked + last_four_chars\n",
    "        return masked_string"
   ]
  },
  {
   "cell_type": "code",
   "execution_count": 9,
   "id": "12161a66-7f84-46cf-887a-5076a3953b9e",
   "metadata": {
    "tags": []
   },
   "outputs": [
    {
     "name": "stdout",
     "output_type": "stream",
     "text": [
      "###############5432\n"
     ]
    }
   ],
   "source": [
    "credit_card = '1234-5678-9876-5432'\n",
    "masked_cc = maskify(credit_card)\n",
    "print(masked_cc)"
   ]
  },
  {
   "cell_type": "markdown",
   "id": "ac9296de-24c9-43c0-ab84-4fdcbe5d3c6a",
   "metadata": {},
   "source": [
    "3.) Given two strings comprised of + and -, return a new string which shows how the two strings interact in the following way:\n",
    "\n",
    "+ When positives and positives interact, they remain positive.\n",
    "+ When negatives and negatives interact, they remain negative.\n",
    "+ But when negatives and positives interact, they become neutral, and are shown as the number 0."
   ]
  },
  {
   "cell_type": "code",
   "execution_count": 1,
   "id": "26db44c4-8e9c-4af1-8b35-1e20f66e4166",
   "metadata": {
    "tags": []
   },
   "outputs": [],
   "source": [
    "def neutralise(s1, s2):\n",
    "    result = []\n",
    "    for char1, char2 in zip(s1, s2):\n",
    "        if char1 == '+' and char2 == '+':\n",
    "            result.append('+')\n",
    "        elif char1 == '-' and char2 == '-':\n",
    "            result.append('-')\n",
    "        else:\n",
    "            result.append('0')\n",
    "    return ''.join(result)"
   ]
  },
  {
   "cell_type": "code",
   "execution_count": 8,
   "id": "df16d016-ea94-41a9-8ce8-f6fdde639018",
   "metadata": {
    "tags": []
   },
   "outputs": [
    {
     "name": "stdout",
     "output_type": "stream",
     "text": [
      "0000\n"
     ]
    }
   ],
   "source": [
    "string1 = \"++-+\"\n",
    "string2 = \"--+-\"\n",
    "result = neutralise(string1,string2)\n",
    "print(result)"
   ]
  },
  {
   "cell_type": "markdown",
   "id": "0e3f3000-d891-416f-8d8f-bfd8c3a0d88a",
   "metadata": {},
   "source": [
    "4.) The objective is to write a method that takes two integer parameters and returns a single integer equal to the number of 1s in the binary representation of the greatest common divisor of the parameters.\n",
    "\n",
    "Taken from Wikipedia: \"In mathematics, the greatest common divisor (gcd) of two or more integers, when at least one of them is not zero, is the largest positive integer that divides the numbers without a remainder. For example, the GCD of 8 and 12 is 4.\"\n",
    "\n",
    "For example: the greatest common divisor of 300 and 45 is 15. The binary representation of 15 is 1111, so the correct output would be 4.\n",
    "\n",
    "If both parameters are 0, the method should return 0. The function must be able to handle negative input."
   ]
  },
  {
   "cell_type": "code",
   "execution_count": 9,
   "id": "b86c44a4-f13f-4669-aeb7-13a418ec309f",
   "metadata": {
    "tags": []
   },
   "outputs": [],
   "source": [
    "import math\n",
    "\n",
    "def binary_gcd(x, y):\n",
    "    if x == 0 and y == 0:\n",
    "        return 0\n",
    "    gcd = abs(math.gcd(x,y))\n",
    "    binary_rep = bin(gcd)[2:]\n",
    "    count_ones = binary_rep.count('1')\n",
    "    return count_ones"
   ]
  },
  {
   "cell_type": "code",
   "execution_count": 11,
   "id": "3e57784f-a022-4d9a-a143-ca757029a7bf",
   "metadata": {
    "tags": []
   },
   "outputs": [
    {
     "name": "stdout",
     "output_type": "stream",
     "text": [
      "4\n"
     ]
    }
   ],
   "source": [
    "result = binary_gcd(300, 45)\n",
    "print(result)"
   ]
  },
  {
   "cell_type": "code",
   "execution_count": null,
   "id": "23e5c495-cf7e-4c29-891e-0368d48dc725",
   "metadata": {},
   "outputs": [],
   "source": []
  }
 ],
 "metadata": {
  "kernelspec": {
   "display_name": "Python [conda env:dsi] *",
   "language": "python",
   "name": "conda-env-dsi-py"
  },
  "language_info": {
   "codemirror_mode": {
    "name": "ipython",
    "version": 3
   },
   "file_extension": ".py",
   "mimetype": "text/x-python",
   "name": "python",
   "nbconvert_exporter": "python",
   "pygments_lexer": "ipython3",
   "version": "3.8.16"
  }
 },
 "nbformat": 4,
 "nbformat_minor": 5
}
