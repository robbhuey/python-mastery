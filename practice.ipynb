{
 "cells": [
  {
   "cell_type": "markdown",
   "id": "3eb76776-61fc-4589-8098-ca3bf5214d3a",
   "metadata": {},
   "source": [
    "## Practice problems"
   ]
  },
  {
   "cell_type": "markdown",
   "id": "5f9460d5-6b7e-4e72-9426-c3240249f36f",
   "metadata": {},
   "source": [
    "+ Starting with questions found on codewars."
   ]
  },
  {
   "cell_type": "markdown",
   "id": "7bf72443-e19b-40be-bd49-2cbc5fb82638",
   "metadata": {},
   "source": [
    "1.) Create a function that takes an integer as an argument and returns \"Even\" for even numbers or \"Odd\" for odd numbers."
   ]
  },
  {
   "cell_type": "code",
   "execution_count": 4,
   "id": "6e4d1f55-d6f7-4edd-adfd-da6703baa360",
   "metadata": {
    "tags": []
   },
   "outputs": [],
   "source": [
    "def even_or_odd(number):\n",
    "    if number % 2 == 0:\n",
    "        return \"Even\"\n",
    "    else:\n",
    "        return \"Odd\""
   ]
  },
  {
   "cell_type": "code",
   "execution_count": 6,
   "id": "41a36b03-f269-43ad-a2f6-7c17c5c42868",
   "metadata": {
    "tags": []
   },
   "outputs": [
    {
     "name": "stdout",
     "output_type": "stream",
     "text": [
      "Odd\n"
     ]
    }
   ],
   "source": [
    "result = even_or_odd(5)\n",
    "print(result)"
   ]
  },
  {
   "cell_type": "code",
   "execution_count": 7,
   "id": "3bd4be94-ecfa-45ab-8e7f-0f1f9deef74c",
   "metadata": {
    "tags": []
   },
   "outputs": [
    {
     "name": "stdout",
     "output_type": "stream",
     "text": [
      "Even\n"
     ]
    }
   ],
   "source": [
    "result = even_or_odd(8)\n",
    "print(result)"
   ]
  },
  {
   "cell_type": "markdown",
   "id": "4e451804-dc68-4e86-89ed-b075e2397f17",
   "metadata": {},
   "source": [
    "2.) Usually when you buy something, you're asked whether your credit card number, phone number or answer to your most secret question is still correct. However, since someone could look over your shoulder, you don't want that shown on your screen. Instead, we mask it.\n",
    "\n",
    "Your task is to write a function maskify, which changes all but the last four characters into '#'."
   ]
  },
  {
   "cell_type": "code",
   "execution_count": 8,
   "id": "1a7ade42-384c-45f6-a59a-59bbd9a2afcb",
   "metadata": {
    "tags": []
   },
   "outputs": [],
   "source": [
    "def maskify(cc):\n",
    "    if len(cc) <= 4:\n",
    "        return cc\n",
    "    else:\n",
    "        masked = '#' * (len(cc) - 4)\n",
    "        last_four_chars = cc[-4:]\n",
    "        masked_string = masked + last_four_chars\n",
    "        return masked_string"
   ]
  },
  {
   "cell_type": "code",
   "execution_count": 9,
   "id": "12161a66-7f84-46cf-887a-5076a3953b9e",
   "metadata": {
    "tags": []
   },
   "outputs": [
    {
     "name": "stdout",
     "output_type": "stream",
     "text": [
      "###############5432\n"
     ]
    }
   ],
   "source": [
    "credit_card = '1234-5678-9876-5432'\n",
    "masked_cc = maskify(credit_card)\n",
    "print(masked_cc)"
   ]
  },
  {
   "cell_type": "code",
   "execution_count": null,
   "id": "eddf0fd5-4b7f-4a5b-b438-fee706d8f136",
   "metadata": {},
   "outputs": [],
   "source": []
  }
 ],
 "metadata": {
  "kernelspec": {
   "display_name": "Python [conda env:dsi] *",
   "language": "python",
   "name": "conda-env-dsi-py"
  },
  "language_info": {
   "codemirror_mode": {
    "name": "ipython",
    "version": 3
   },
   "file_extension": ".py",
   "mimetype": "text/x-python",
   "name": "python",
   "nbconvert_exporter": "python",
   "pygments_lexer": "ipython3",
   "version": "3.8.16"
  }
 },
 "nbformat": 4,
 "nbformat_minor": 5
}
